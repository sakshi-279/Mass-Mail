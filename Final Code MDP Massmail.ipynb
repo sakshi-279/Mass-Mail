{
 "cells": [
  {
   "cell_type": "code",
   "execution_count": 1,
   "id": "f1b81b48",
   "metadata": {},
   "outputs": [],
   "source": [
    "# import the required libraries\n",
    "import pandas as pd\n",
    "import os\n",
    "import xlrd\n",
    "import smtplib\n",
    "from email.mime.multipart import MIMEMultipart\n",
    "from email.mime.text import MIMEText\n",
    "from email.mime.base import MIMEBase\n",
    "from email.mime.image import MIMEImage\n",
    "from email import encoders\n",
    "import getpass"
   ]
  },
  {
   "cell_type": "code",
   "execution_count": 4,
   "id": "30c14eb5",
   "metadata": {},
   "outputs": [],
   "source": [
    " # change these as per use\n",
    "your_email = input(\"enter your email-id \")\n",
    "your_password = getpass.getpass(\"enter your password: \\n\")"
   ]
  },
  {
   "cell_type": "code",
   "execution_count": 5,
   "id": "1eee900d",
   "metadata": {},
   "outputs": [
    {
     "data": {
      "text/plain": [
       "(235, b'2.7.0 Authentication successful')"
      ]
     },
     "execution_count": 5,
     "metadata": {},
     "output_type": "execute_result"
    }
   ],
   "source": [
    "# establishing connection with IIT-B mail\n",
    "server = smtplib.SMTP('smtp-auth.iitb.ac.in',587)\n",
    "server.ehlo()\n",
    "server.starttls()\n",
    "server.login(your_email, your_password)"
   ]
  },
  {
   "cell_type": "code",
   "execution_count": 6,
   "id": "9f339719",
   "metadata": {},
   "outputs": [
    {
     "name": "stdout",
     "output_type": "stream",
     "text": [
      "d:\\Sakshi PC 050423\\Data_Work\\Mass Mail\\Test\n"
     ]
    }
   ],
   "source": [
    "# Define directory\n",
    "# os.chdir = input(\"Input directory address \")\n",
    "current_directory=os.getcwd()\n",
    "print(current_directory)"
   ]
  },
  {
   "cell_type": "code",
   "execution_count": 8,
   "id": "4ed608ab",
   "metadata": {},
   "outputs": [
    {
     "name": "stdout",
     "output_type": "stream",
     "text": [
      "                name          designation     address  \\\n",
      "0  Shivanand Nalgire     Project Engineer  IIT Bombay   \n",
      "1      Meghraj Garad     Project Engineer  IIT Bombay   \n",
      "2     Vamsee Krishna     Project Engineer  IIT Bombay   \n",
      "3  Sakshi Srivastava  Technical Assistant  IIT Bombay   \n",
      "4     Pramila Tawade      Admin Assistant  IIT Bombay   \n",
      "5           Shraddha              Student  IIT Bombay   \n",
      "\n",
      "                          emails  \n",
      "0         Shavnalgire4@gmail.com  \n",
      "1     meghrajgarad3713@gmail.com  \n",
      "2            vamsee227@gmail.com  \n",
      "3  sakshisrivastava279@gmail.com  \n",
      "4        pramilatawade@gmail.com  \n",
      "5  shraddhavekhande49@gmail.com   \n"
     ]
    },
    {
     "data": {
      "text/plain": [
       "<bound method NDFrame.head of                 name          designation     address  \\\n",
       "0  Shivanand Nalgire     Project Engineer  IIT Bombay   \n",
       "1      Meghraj Garad     Project Engineer  IIT Bombay   \n",
       "2     Vamsee Krishna     Project Engineer  IIT Bombay   \n",
       "3  Sakshi Srivastava  Technical Assistant  IIT Bombay   \n",
       "4     Pramila Tawade      Admin Assistant  IIT Bombay   \n",
       "5           Shraddha              Student  IIT Bombay   \n",
       "\n",
       "                          emails  \n",
       "0         Shavnalgire4@gmail.com  \n",
       "1     meghrajgarad3713@gmail.com  \n",
       "2            vamsee227@gmail.com  \n",
       "3  sakshisrivastava279@gmail.com  \n",
       "4        pramilatawade@gmail.com  \n",
       "5  shraddhavekhande49@gmail.com   >"
      ]
     },
     "execution_count": 8,
     "metadata": {},
     "output_type": "execute_result"
    }
   ],
   "source": [
    "# reading the spreadsheet\n",
    "#address = input(\"provide name of address file along with extension \\n\")\n",
    "#file_address = os.chdir + \"/\" + address\n",
    "#print(file_address)\n",
    "email_list = pd.read_excel(\"list for python.xlsx\")\n",
    "                           \n",
    "print(email_list)\n",
    "\n",
    "email_list.head"
   ]
  },
  {
   "cell_type": "code",
   "execution_count": 9,
   "id": "9dd99d6d",
   "metadata": {},
   "outputs": [
    {
     "name": "stdout",
     "output_type": "stream",
     "text": [
      "d:\\Sakshi PC 050423\\Data_Work\\Mass Mail\\Test\n"
     ]
    }
   ],
   "source": [
    "# getting the names and the emails\n",
    "names = email_list['name']\n",
    "emails = email_list['emails']\n",
    "# files = email_list['attachment']\n",
    "message_subject = input(\"Enter subject:\\n\")\n",
    "print(os.getcwd())"
   ]
  },
  {
   "cell_type": "code",
   "execution_count": null,
   "id": "cd237c0b",
   "metadata": {},
   "outputs": [],
   "source": [
    "for i in range(len(emails)):\n",
    "  \n",
    "    #add_footer\n",
    "    #fp = open('Prayog_logo.png', 'rb')\n",
    "    #msgImage = MIMEImage(fp.read())\n",
    "    #fp.close()\n",
    "    #msgImage.add_header('Content-ID', '<image1>')\n",
    "    #message.attach(msgImage)\n",
    "    # for every record get the name and the email addresses\n",
    "    name = names[i]\n",
    "    email = emails[i]\n",
    "#     file = files[i]\n",
    "\n",
    "##########################################################------CREATE VARIABLE OF ATTCHMENT FILE------################################################################################################################\n",
    "#     attachment = open(file,'rb')\n",
    "    brochure = open(\"BROCHURE.pdf\", 'rb') # This is for creating variable of attachment <<<<----------------------------------------------------\n",
    "    flyer = open(\"Internship.png\", 'rb') # This is for creating variable of attachment     <<<<----------------------------------------------------\n",
    "\n",
    "#############################################################################################################################################################################\n",
    "\n",
    "\n",
    "    message = MIMEMultipart()\n",
    "    message['From'] = your_email\n",
    "    message['To'] = email\n",
    "    message['BCC'] = your_email\n",
    "    message['Subject'] = message_subject\n",
    "\n",
    "#######################################################------BODY OF THE MAIL/MAIL CONTENT------###################################################################################################################\n",
    "     # the message to be emailed WITHOUT NAMES <<<<<<<<<<----------------\n",
    "    #body =  \"Dear Sir/Madam, <br><br>Greetings from PRAYOG, CTARA, IIT Bombay! <br><br> <b>PRAYOG</b>, an initiative by CTARA, <b>IIT Bombay</b> and launched in June 2021, has been successfully executing the task of bringing solution seekers and solution providers together to address societal issues. <br><br> Under this initiative PRAYOG offered summer internships to Polytechnic students in academic year 2021-22 in the area of Data Scrapping, Data base building, and Data Analysis. In this academic year 2022-23, PRAYOG is planning to offer internships in different areas such as Data Analysis, Project Management and Consulting, Outreach and CRM, and Graphic Design  etc. <br><br> We therefore request you to circulate the flyers attached herewith among your students for summer internships for following profiles - <br><ol><li><a href='https://drive.google.com/file/d/1w8gNVsDhOdjsNNdfyr95VIzKVbdzpcFJ/view?usp=sharing'>Data Analyst Intern</a></li>    <li><a href='https://drive.google.com/file/d/1woLVZMqHS6Yv8K4CTYbb2U1q_BGhD0by/view?usp=sharing'>Outreach & Relationship building (CRM) Intern</a></li>    <li><a href='https://drive.google.com/file/d/1kJPg1Lo6ba7ST0IrCqJfNY1wg4nbodFF/view?usp=sharing'>Project (Proposal) Consulting Intern</a></li>    <li><a href='https://drive.google.com/file/d/1-w0d0GfriYhlXoeSlGKgci2Z-_PiOwXH/view?usp=sharing'>Project Management Consulting Intern</a></li>    <li><a href='https://drive.google.com/file/d/1VCMUYCbLRxqyPjAu-LZb6Fg66z_rKr3R/view?usp=sharing'>Design Intern</a></li></ol> Interested students may kindly apply through the <a href='https://forms.gle/Q96USACatoyx3eSd8'>Google Form</a> attached with this mail. <br><br> The selection of candidates will be based shortlisting of resumes followed by an interview. <br><br><b>Last date to apply:</b> 20 April 2023 <br> <b>Internship starts on:</b> 01 May 2023 <br> <b>Duration:</b> 06 / 09 weeks <br> <b>Link to apply:</b> <a href='https://forms.gle/q9KT4BmwvmUSB3U9A' target='_blank'>https://forms.gle/q9KT4BmwvmUSB3U9A</a><br><b>Stipend / Accomodation:</b> IIT Bombay will NOT provide any kind of stipend or accomodation. <br><br>FYI, brochure of PRAYOG is attached. <br><br> Thanks & regards,<br> PRAYOG Core Team,<br> CTARA, IIT Bombay\" # sending the email\n",
    "    \n",
    "    ## The message to be mailed WITH NAMES <<<<<<<<<<<------------------------\n",
    "    body =  \"Dear \" + name + \",\" + \"<br><p>Thank you for your interet and application for Summer Training cum Internship at IIT Bombay.</p><p>We have received more than 500 applications and our team has reviewed them all. This is a highly competitive program with many people applying. Unfortunately, on this occasion there were other candidates whose resumes were a closer match to what we are looking for. So, we will not be taking your application further in the process at this time.</p><p>We're all constantly evolving and adapting, and if you're still passionate about getting involved in team, you can apply for our other Training and Internship Programmes notified on our <a href='https://www.prayog.ctara.iitb.ac.in/' target='_blank'>website</a> and follow our <a href='https://www.linkedin.com/in/prayog-ctara-iit-bombay-42a939216/' target='_blank'>social media</a> handles. We have created a record of your resumes and we will approach you for suitable roles. We always welcome your continued interest in joining our team.</p><p>We wish you the best for your future. Thank you for considering us as your potential organisation for internship.</p><p><b>Thanks and regards</b><br><b>Team PRAYOG, IIT Bombay</b><br><a href='https://www.prayog.ctara.iitb.ac.in/'>https://www.prayog.ctara.iitb.ac.in/</a></p>\" # sending the email\n",
    "    \n",
    "    # To attach message\n",
    "    message.attach(MIMEText(body, 'html'))\n",
    "##########################################################################################################################################################################\n",
    "\n",
    "#     obj = MIMEBase('application','octet-stream', Name=file)\n",
    "#     obj.set_payload((attachment).read())\n",
    "#     encoders.encode_base64(obj)\n",
    "#     obj.add_header('Content-Disposition',\"attachment\", filename=file)\n",
    "#     message.attach(obj)\n",
    "    #attaching brochure\n",
    "\n",
    "#################################################################------OBJECT FOR ATTACHING ATTACHMENT IN THE MAIL------################################################################################################################# \n",
    "    #Code block for adding attachments in the mass mail\n",
    "    obj2 = MIMEBase('application','octet-stream', Name=\"BROCHURE.pdf\") #<<<<---------FILENAME-------\n",
    "    obj2.set_payload((brochure).read()) # Variable of attachment file   <<<<--------------VARIABLE--------------------------------------\n",
    "    encoders.encode_base64(obj2)\n",
    "    obj2.add_header('Content-Disposition',\"brochure\", filename=\"BROCHURE.pdf\")\n",
    "    message.attach(obj2)\n",
    "###################################################################------OBJECT FOR ATTACHING ATTACHMENT IN THE MAIL------#######################################################################################################\n",
    "    obj3 = MIMEBase('application','octet-stream', Name=\"Internship.png\") #<<<<-------FILENAME---------\n",
    "    obj3.set_payload((flyer).read()) #variable of attachment file  <<<<------------------VARIABLE----------------------------------\n",
    "    encoders.encode_base64(obj3)\n",
    "    obj3.add_header('Content-Disposition',\"brochure\", filename=\"Internship.png\")\n",
    "    message.attach(obj3)\n",
    "##########################################################################################################################################################################\n",
    "\n",
    "    #sent to one BCC\n",
    "    sent_to = [email] # + [your_email]   <<<<<<<<<<<<<-------------- uncomment the your_mail part to send a copy of mass mail to self\n",
    "    text = message.as_string()\n",
    "    server.sendmail(your_email, sent_to, text)\n",
    "     #message.Save();\n",
    "          #message.SendAndSaveCopy();\n",
    "server.close()"
   ]
  },
  {
   "cell_type": "code",
   "execution_count": null,
   "id": "0635cade",
   "metadata": {},
   "outputs": [],
   "source": []
  },
  {
   "cell_type": "code",
   "execution_count": null,
   "id": "6ae6ac73",
   "metadata": {},
   "outputs": [],
   "source": []
  },
  {
   "cell_type": "code",
   "execution_count": null,
   "id": "dce04872",
   "metadata": {},
   "outputs": [],
   "source": []
  },
  {
   "cell_type": "code",
   "execution_count": null,
   "id": "4531fd40",
   "metadata": {},
   "outputs": [],
   "source": []
  },
  {
   "cell_type": "code",
   "execution_count": null,
   "id": "324daa0f",
   "metadata": {},
   "outputs": [],
   "source": []
  },
  {
   "cell_type": "code",
   "execution_count": null,
   "id": "4cf2987a",
   "metadata": {},
   "outputs": [],
   "source": []
  }
 ],
 "metadata": {
  "kernelspec": {
   "display_name": "Python 3 (ipykernel)",
   "language": "python",
   "name": "python3"
  },
  "language_info": {
   "codemirror_mode": {
    "name": "ipython",
    "version": 3
   },
   "file_extension": ".py",
   "mimetype": "text/x-python",
   "name": "python",
   "nbconvert_exporter": "python",
   "pygments_lexer": "ipython3",
   "version": "3.11.2"
  }
 },
 "nbformat": 4,
 "nbformat_minor": 5
}
